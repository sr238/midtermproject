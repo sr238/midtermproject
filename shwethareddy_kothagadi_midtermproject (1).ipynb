{
 "cells": [
  {
   "cell_type": "code",
   "execution_count": 1,
   "id": "emotional-alias",
   "metadata": {},
   "outputs": [],
   "source": [
    "import numpy as np \n",
    "import pandas as pd \n",
    "from mlxtend.frequent_patterns import apriori"
   ]
  },
  {
   "cell_type": "code",
   "execution_count": 2,
   "id": "departmental-wiring",
   "metadata": {},
   "outputs": [
    {
     "name": "stdout",
     "output_type": "stream",
     "text": [
      "Requirement already satisfied: mlxtend in c:\\python\\lib\\site-packages (0.18.0)"
     ]
    },
    {
     "name": "stderr",
     "output_type": "stream",
     "text": [
      "WARNING: You are using pip version 20.1.1; however, version 21.0.1 is available.\n",
      "You should consider upgrading via the 'c:\\python\\python.exe -m pip install --upgrade pip' command.\n"
     ]
    },
    {
     "name": "stdout",
     "output_type": "stream",
     "text": [
      "\n",
      "Requirement already satisfied: pandas>=0.24.2 in c:\\python\\lib\\site-packages (from mlxtend) (1.2.3)\n",
      "Requirement already satisfied: setuptools in c:\\python\\lib\\site-packages (from mlxtend) (47.1.0)\n",
      "Requirement already satisfied: scikit-learn>=0.20.3 in c:\\python\\lib\\site-packages (from mlxtend) (0.24.1)\n",
      "Requirement already satisfied: joblib>=0.13.2 in c:\\python\\lib\\site-packages (from mlxtend) (1.0.1)\n",
      "Requirement already satisfied: scipy>=1.2.1 in c:\\python\\lib\\site-packages (from mlxtend) (1.6.2)\n",
      "Requirement already satisfied: matplotlib>=3.0.0 in c:\\python\\lib\\site-packages (from mlxtend) (3.4.0)\n",
      "Requirement already satisfied: numpy>=1.16.2 in c:\\python\\lib\\site-packages (from mlxtend) (1.20.1)\n",
      "Requirement already satisfied: pytz>=2017.3 in c:\\python\\lib\\site-packages (from pandas>=0.24.2->mlxtend) (2021.1)\n",
      "Requirement already satisfied: python-dateutil>=2.7.3 in c:\\python\\lib\\site-packages (from pandas>=0.24.2->mlxtend) (2.8.1)\n",
      "Requirement already satisfied: threadpoolctl>=2.0.0 in c:\\python\\lib\\site-packages (from scikit-learn>=0.20.3->mlxtend) (2.1.0)\n",
      "Requirement already satisfied: pillow>=6.2.0 in c:\\python\\lib\\site-packages (from matplotlib>=3.0.0->mlxtend) (8.1.2)\n",
      "Requirement already satisfied: cycler>=0.10 in c:\\python\\lib\\site-packages (from matplotlib>=3.0.0->mlxtend) (0.10.0)\n",
      "Requirement already satisfied: kiwisolver>=1.0.1 in c:\\python\\lib\\site-packages (from matplotlib>=3.0.0->mlxtend) (1.3.1)\n",
      "Requirement already satisfied: pyparsing>=2.2.1 in c:\\python\\lib\\site-packages (from matplotlib>=3.0.0->mlxtend) (2.4.7)\n",
      "Requirement already satisfied: six>=1.5 in c:\\python\\lib\\site-packages (from python-dateutil>=2.7.3->pandas>=0.24.2->mlxtend) (1.15.0)\n"
     ]
    }
   ],
   "source": [
    "!pip install mlxtend"
   ]
  },
  {
   "cell_type": "code",
   "execution_count": 3,
   "id": "lovely-machinery",
   "metadata": {},
   "outputs": [],
   "source": [
    "def createC1(dataSet):\n",
    "    C1 = []\n",
    "    for transaction in dataSet:\n",
    "        for item in transaction:\n",
    "            if not [item] in C1:\n",
    "                C1.append([item])\n",
    "                \n",
    "    \n",
    "    return list(map(frozenset, C1))\n",
    "    \n",
    "    "
   ]
  },
  {
   "cell_type": "code",
   "execution_count": 4,
   "id": "based-cherry",
   "metadata": {},
   "outputs": [],
   "source": [
    "def scanD(D, Ck, minSupport):\n",
    "    ssCnt = {}\n",
    "    for tid in D:\n",
    "        for can in Ck:\n",
    "            if can.issubset(tid):\n",
    "                if not can in ssCnt: ssCnt[can]=1\n",
    "                else: ssCnt[can] += 1\n",
    "    numItems = float(len(D))\n",
    "    retList = []\n",
    "    supportData = {}\n",
    "    for key in ssCnt:\n",
    "        support = ssCnt[key]/numItems\n",
    "        if support >= minSupport:\n",
    "            retList.insert(0,key)\n",
    "        supportData[key] = support\n",
    "    return retList, supportData"
   ]
  },
  {
   "cell_type": "code",
   "execution_count": 65,
   "id": "functional-student",
   "metadata": {},
   "outputs": [
    {
     "data": {
      "text/html": [
       "<div>\n",
       "<style scoped>\n",
       "    .dataframe tbody tr th:only-of-type {\n",
       "        vertical-align: middle;\n",
       "    }\n",
       "\n",
       "    .dataframe tbody tr th {\n",
       "        vertical-align: top;\n",
       "    }\n",
       "\n",
       "    .dataframe thead th {\n",
       "        text-align: right;\n",
       "    }\n",
       "</style>\n",
       "<table border=\"1\" class=\"dataframe\">\n",
       "  <thead>\n",
       "    <tr style=\"text-align: right;\">\n",
       "      <th></th>\n",
       "      <th>T1</th>\n",
       "      <th>T2</th>\n",
       "      <th>T3</th>\n",
       "    </tr>\n",
       "  </thead>\n",
       "  <tbody>\n",
       "    <tr>\n",
       "      <th>0</th>\n",
       "      <td>A</td>\n",
       "      <td>B</td>\n",
       "      <td>C</td>\n",
       "    </tr>\n",
       "    <tr>\n",
       "      <th>1</th>\n",
       "      <td>A</td>\n",
       "      <td>C</td>\n",
       "      <td>Nan</td>\n",
       "    </tr>\n",
       "    <tr>\n",
       "      <th>2</th>\n",
       "      <td>A</td>\n",
       "      <td>D</td>\n",
       "      <td>Nan</td>\n",
       "    </tr>\n",
       "    <tr>\n",
       "      <th>3</th>\n",
       "      <td>B</td>\n",
       "      <td>E</td>\n",
       "      <td>F</td>\n",
       "    </tr>\n",
       "  </tbody>\n",
       "</table>\n",
       "</div>"
      ],
      "text/plain": [
       "  T1 T2   T3\n",
       "0  A  B    C\n",
       "1  A  C  Nan\n",
       "2  A  D  Nan\n",
       "3  B  E    F"
      ]
     },
     "execution_count": 65,
     "metadata": {},
     "output_type": "execute_result"
    }
   ],
   "source": [
    "df = pd.read_csv('data.csv')\n",
    "df = df.dropna()\n",
    "df.head(20)\n"
   ]
  },
  {
   "cell_type": "code",
   "execution_count": 6,
   "id": "residential-mexico",
   "metadata": {},
   "outputs": [
    {
     "data": {
      "text/plain": [
       "[['A', 'B', 'C'], ['A', 'C', 'Nan'], ['A', 'D', 'Nan'], ['B', 'E', 'F']]"
      ]
     },
     "execution_count": 6,
     "metadata": {},
     "output_type": "execute_result"
    }
   ],
   "source": [
    "dataSet = df.values.tolist()\n",
    "dataSet"
   ]
  },
  {
   "cell_type": "code",
   "execution_count": 7,
   "id": "superb-silly",
   "metadata": {},
   "outputs": [],
   "source": [
    "C1 = createC1(dataSet)"
   ]
  },
  {
   "cell_type": "code",
   "execution_count": 8,
   "id": "dutch-error",
   "metadata": {},
   "outputs": [
    {
     "data": {
      "text/plain": [
       "[frozenset({'A'}),\n",
       " frozenset({'B'}),\n",
       " frozenset({'C'}),\n",
       " frozenset({'Nan'}),\n",
       " frozenset({'D'}),\n",
       " frozenset({'E'}),\n",
       " frozenset({'F'})]"
      ]
     },
     "execution_count": 8,
     "metadata": {},
     "output_type": "execute_result"
    }
   ],
   "source": [
    "C1"
   ]
  },
  {
   "cell_type": "code",
   "execution_count": 9,
   "id": "reliable-nashville",
   "metadata": {},
   "outputs": [],
   "source": [
    "#D is a dataset in the setform.\n",
    "\n",
    "D = list(map(set,dataSet))"
   ]
  },
  {
   "cell_type": "code",
   "execution_count": 10,
   "id": "photographic-fusion",
   "metadata": {},
   "outputs": [
    {
     "data": {
      "text/plain": [
       "[{'A', 'B', 'C'}, {'A', 'C', 'Nan'}, {'A', 'D', 'Nan'}, {'B', 'E', 'F'}]"
      ]
     },
     "execution_count": 10,
     "metadata": {},
     "output_type": "execute_result"
    }
   ],
   "source": [
    "D"
   ]
  },
  {
   "cell_type": "code",
   "execution_count": 11,
   "id": "genuine-monster",
   "metadata": {},
   "outputs": [
    {
     "data": {
      "text/plain": [
       "[frozenset({'Nan'}), frozenset({'C'}), frozenset({'B'}), frozenset({'A'})]"
      ]
     },
     "execution_count": 11,
     "metadata": {},
     "output_type": "execute_result"
    }
   ],
   "source": [
    "L1,suppData = scanD(D,C1,0.5)\n",
    "L1"
   ]
  },
  {
   "cell_type": "code",
   "execution_count": 12,
   "id": "preliminary-surgery",
   "metadata": {},
   "outputs": [],
   "source": [
    "def aprioriGen(Lk, k): #creates Ck\n",
    "    retList = []\n",
    "    lenLk = len(Lk)\n",
    "    for i in range(lenLk):\n",
    "        for j in range(i+1, lenLk): \n",
    "            L1 = list(Lk[i])[:k-2]; L2 = list(Lk[j])[:k-2]\n",
    "            L1.sort(); L2.sort()\n",
    "            if L1==L2: #if first k-2 elements are equal\n",
    "                retList.append(Lk[i] | Lk[j]) #set union\n",
    "    return retList"
   ]
  },
  {
   "cell_type": "code",
   "execution_count": 13,
   "id": "dominican-reproduction",
   "metadata": {},
   "outputs": [],
   "source": [
    "def apriori(dataSet, minSupport = 0.5):\n",
    "    C1 = createC1(dataSet)\n",
    "    D = list(map(set, dataSet))\n",
    "    L1, supportData = scanD(D, C1, minSupport)\n",
    "    L = [L1]\n",
    "    k = 2\n",
    "    while (len(L[k-2]) > 0):\n",
    "        Ck = aprioriGen(L[k-2], k)\n",
    "        Lk, supK = scanD(D, Ck, minSupport)#scan DB to get Lk\n",
    "        supportData.update(supK)\n",
    "        L.append(Lk)\n",
    "        k += 1\n",
    "    return L, supportData"
   ]
  },
  {
   "cell_type": "code",
   "execution_count": 14,
   "id": "featured-century",
   "metadata": {},
   "outputs": [],
   "source": [
    "L,suppData = apriori(dataSet)"
   ]
  },
  {
   "cell_type": "code",
   "execution_count": 15,
   "id": "occasional-tours",
   "metadata": {},
   "outputs": [
    {
     "data": {
      "text/plain": [
       "[[frozenset({'Nan'}), frozenset({'C'}), frozenset({'B'}), frozenset({'A'})],\n",
       " [frozenset({'A', 'Nan'}), frozenset({'A', 'C'})],\n",
       " []]"
      ]
     },
     "execution_count": 15,
     "metadata": {},
     "output_type": "execute_result"
    }
   ],
   "source": [
    "L"
   ]
  },
  {
   "cell_type": "code",
   "execution_count": 16,
   "id": "figured-spending",
   "metadata": {},
   "outputs": [
    {
     "data": {
      "text/plain": [
       "[frozenset({'Nan'}), frozenset({'C'}), frozenset({'B'}), frozenset({'A'})]"
      ]
     },
     "execution_count": 16,
     "metadata": {},
     "output_type": "execute_result"
    }
   ],
   "source": [
    "L[0]"
   ]
  },
  {
   "cell_type": "code",
   "execution_count": 17,
   "id": "arctic-reporter",
   "metadata": {},
   "outputs": [
    {
     "data": {
      "text/plain": [
       "[frozenset({'A', 'Nan'}), frozenset({'A', 'C'})]"
      ]
     },
     "execution_count": 17,
     "metadata": {},
     "output_type": "execute_result"
    }
   ],
   "source": [
    "L[1]"
   ]
  },
  {
   "cell_type": "code",
   "execution_count": 18,
   "id": "interesting-bunny",
   "metadata": {},
   "outputs": [
    {
     "data": {
      "text/plain": [
       "[]"
      ]
     },
     "execution_count": 18,
     "metadata": {},
     "output_type": "execute_result"
    }
   ],
   "source": [
    "L[2]"
   ]
  },
  {
   "cell_type": "code",
   "execution_count": 19,
   "id": "egyptian-solomon",
   "metadata": {},
   "outputs": [
    {
     "ename": "IndexError",
     "evalue": "list index out of range",
     "output_type": "error",
     "traceback": [
      "\u001b[1;31m---------------------------------------------------------------------------\u001b[0m",
      "\u001b[1;31mIndexError\u001b[0m                                Traceback (most recent call last)",
      "\u001b[1;32m<ipython-input-19-28c5e42e8527>\u001b[0m in \u001b[0;36m<module>\u001b[1;34m\u001b[0m\n\u001b[1;32m----> 1\u001b[1;33m \u001b[0mL\u001b[0m\u001b[1;33m[\u001b[0m\u001b[1;36m3\u001b[0m\u001b[1;33m]\u001b[0m\u001b[1;33m\u001b[0m\u001b[1;33m\u001b[0m\u001b[0m\n\u001b[0m",
      "\u001b[1;31mIndexError\u001b[0m: list index out of range"
     ]
    }
   ],
   "source": [
    "L[3]"
   ]
  },
  {
   "cell_type": "code",
   "execution_count": 20,
   "id": "interracial-remains",
   "metadata": {},
   "outputs": [
    {
     "data": {
      "text/plain": [
       "[frozenset({'C', 'Nan'}),\n",
       " frozenset({'B', 'Nan'}),\n",
       " frozenset({'A', 'Nan'}),\n",
       " frozenset({'B', 'C'}),\n",
       " frozenset({'A', 'C'}),\n",
       " frozenset({'A', 'B'})]"
      ]
     },
     "execution_count": 20,
     "metadata": {},
     "output_type": "execute_result"
    }
   ],
   "source": [
    "aprioriGen(L[0],2)"
   ]
  },
  {
   "cell_type": "code",
   "execution_count": 21,
   "id": "competitive-malpractice",
   "metadata": {},
   "outputs": [],
   "source": [
    "def generateRules(L, supportData, minConf=0.7):  #supportData is a dict coming from scanD\n",
    "    bigRuleList = []\n",
    "    for i in range(1, len(L)):#only get the sets with two or more items\n",
    "        for freqSet in L[i]:\n",
    "            H1 = [frozenset([item]) for item in freqSet]\n",
    "            if (i > 1):\n",
    "                rulesFromConseq(freqSet, H1, supportData, bigRuleList, minConf)\n",
    "            else:\n",
    "                calcConf(freqSet, H1, supportData, bigRuleList, minConf)\n",
    "    return bigRuleList         "
   ]
  },
  {
   "cell_type": "code",
   "execution_count": 22,
   "id": "considerable-toddler",
   "metadata": {},
   "outputs": [],
   "source": [
    "def calcConf(freqSet, H, supportData, brl, minConf=0.7):\n",
    "    prunedH = [] #create new list to return\n",
    "    for conseq in H:\n",
    "        conf = supportData[freqSet]/supportData[freqSet-conseq] #calc confidence\n",
    "        if conf >= minConf: \n",
    "            print (freqSet-conseq,'-->',conseq,'conf:',conf)\n",
    "            brl.append((freqSet-conseq, conseq, conf))\n",
    "            prunedH.append(conseq)\n",
    "    return prunedH"
   ]
  },
  {
   "cell_type": "code",
   "execution_count": 23,
   "id": "paperback-telling",
   "metadata": {},
   "outputs": [],
   "source": [
    "def rulesFromConseq(freqSet, H, supportData, brl, minConf=0.7):\n",
    "    m = len(H[0])\n",
    "    if (len(freqSet) > (m + 1)): #try further merging\n",
    "        Hmp1 = aprioriGen(H, m+1)#create Hm+1 new candidates\n",
    "        Hmp1 = calcConf(freqSet, Hmp1, supportData, brl, minConf)\n",
    "        if (len(Hmp1) > 1):    #need at least two sets to merge\n",
    "            rulesFromConseq(freqSet, Hmp1, supportData, brl, minConf)"
   ]
  },
  {
   "cell_type": "code",
   "execution_count": 24,
   "id": "caroline-entity",
   "metadata": {},
   "outputs": [],
   "source": [
    "L,suppData= apriori(dataSet,minSupport=0.5)"
   ]
  },
  {
   "cell_type": "code",
   "execution_count": 25,
   "id": "senior-salad",
   "metadata": {},
   "outputs": [
    {
     "name": "stdout",
     "output_type": "stream",
     "text": [
      "frozenset({'Nan'}) --> frozenset({'A'}) conf: 1.0\n",
      "frozenset({'C'}) --> frozenset({'A'}) conf: 1.0\n"
     ]
    }
   ],
   "source": [
    "rules= generateRules(L,suppData, minConf=0.7)"
   ]
  },
  {
   "cell_type": "code",
   "execution_count": 26,
   "id": "hispanic-revision",
   "metadata": {},
   "outputs": [],
   "source": [
    "datafile = pd.read_csv('data.csv')"
   ]
  },
  {
   "cell_type": "code",
   "execution_count": 27,
   "id": "empirical-neighborhood",
   "metadata": {},
   "outputs": [
    {
     "data": {
      "text/html": [
       "<div>\n",
       "<style scoped>\n",
       "    .dataframe tbody tr th:only-of-type {\n",
       "        vertical-align: middle;\n",
       "    }\n",
       "\n",
       "    .dataframe tbody tr th {\n",
       "        vertical-align: top;\n",
       "    }\n",
       "\n",
       "    .dataframe thead th {\n",
       "        text-align: right;\n",
       "    }\n",
       "</style>\n",
       "<table border=\"1\" class=\"dataframe\">\n",
       "  <thead>\n",
       "    <tr style=\"text-align: right;\">\n",
       "      <th></th>\n",
       "      <th>1</th>\n",
       "      <th>2</th>\n",
       "      <th>3</th>\n",
       "      <th>T</th>\n",
       "    </tr>\n",
       "  </thead>\n",
       "  <tbody>\n",
       "    <tr>\n",
       "      <th>0</th>\n",
       "      <td>True</td>\n",
       "      <td>False</td>\n",
       "      <td>False</td>\n",
       "      <td>True</td>\n",
       "    </tr>\n",
       "    <tr>\n",
       "      <th>1</th>\n",
       "      <td>False</td>\n",
       "      <td>True</td>\n",
       "      <td>False</td>\n",
       "      <td>True</td>\n",
       "    </tr>\n",
       "    <tr>\n",
       "      <th>2</th>\n",
       "      <td>False</td>\n",
       "      <td>False</td>\n",
       "      <td>True</td>\n",
       "      <td>True</td>\n",
       "    </tr>\n",
       "    <tr>\n",
       "      <th>3</th>\n",
       "      <td>False</td>\n",
       "      <td>False</td>\n",
       "      <td>False</td>\n",
       "      <td>False</td>\n",
       "    </tr>\n",
       "  </tbody>\n",
       "</table>\n",
       "</div>"
      ],
      "text/plain": [
       "       1      2      3      T\n",
       "0   True  False  False   True\n",
       "1  False   True  False   True\n",
       "2  False  False   True   True\n",
       "3  False  False  False  False"
      ]
     },
     "execution_count": 27,
     "metadata": {},
     "output_type": "execute_result"
    }
   ],
   "source": [
    "import pandas as pd\n",
    "from mlxtend.preprocessing import TransactionEncoder\n",
    "\n",
    "te = TransactionEncoder()\n",
    "te_ary = te.fit(datafile).transform(datafile)\n",
    "df = pd.DataFrame(te_ary, columns=te.columns_)\n",
    "df\n"
   ]
  },
  {
   "cell_type": "code",
   "execution_count": 28,
   "id": "healthy-vitamin",
   "metadata": {},
   "outputs": [],
   "source": [
    "datafile = pd.read_csv('data.csv')"
   ]
  },
  {
   "cell_type": "code",
   "execution_count": 29,
   "id": "dependent-monaco",
   "metadata": {},
   "outputs": [
    {
     "data": {
      "text/html": [
       "<div>\n",
       "<style scoped>\n",
       "    .dataframe tbody tr th:only-of-type {\n",
       "        vertical-align: middle;\n",
       "    }\n",
       "\n",
       "    .dataframe tbody tr th {\n",
       "        vertical-align: top;\n",
       "    }\n",
       "\n",
       "    .dataframe thead th {\n",
       "        text-align: right;\n",
       "    }\n",
       "</style>\n",
       "<table border=\"1\" class=\"dataframe\">\n",
       "  <thead>\n",
       "    <tr style=\"text-align: right;\">\n",
       "      <th></th>\n",
       "      <th>1</th>\n",
       "      <th>2</th>\n",
       "      <th>3</th>\n",
       "      <th>T</th>\n",
       "    </tr>\n",
       "  </thead>\n",
       "  <tbody>\n",
       "    <tr>\n",
       "      <th>0</th>\n",
       "      <td>True</td>\n",
       "      <td>False</td>\n",
       "      <td>False</td>\n",
       "      <td>True</td>\n",
       "    </tr>\n",
       "    <tr>\n",
       "      <th>1</th>\n",
       "      <td>False</td>\n",
       "      <td>True</td>\n",
       "      <td>False</td>\n",
       "      <td>True</td>\n",
       "    </tr>\n",
       "    <tr>\n",
       "      <th>2</th>\n",
       "      <td>False</td>\n",
       "      <td>False</td>\n",
       "      <td>True</td>\n",
       "      <td>True</td>\n",
       "    </tr>\n",
       "    <tr>\n",
       "      <th>3</th>\n",
       "      <td>False</td>\n",
       "      <td>False</td>\n",
       "      <td>False</td>\n",
       "      <td>False</td>\n",
       "    </tr>\n",
       "  </tbody>\n",
       "</table>\n",
       "</div>"
      ],
      "text/plain": [
       "       1      2      3      T\n",
       "0   True  False  False   True\n",
       "1  False   True  False   True\n",
       "2  False  False   True   True\n",
       "3  False  False  False  False"
      ]
     },
     "execution_count": 29,
     "metadata": {},
     "output_type": "execute_result"
    }
   ],
   "source": [
    "import pandas as pd\n",
    "from mlxtend.preprocessing import TransactionEncoder\n",
    "\n",
    "te = TransactionEncoder()\n",
    "te_ary = te.fit(datafile).transform(datafile)\n",
    "df = pd.DataFrame(te_ary, columns=te.columns_)\n",
    "df"
   ]
  },
  {
   "cell_type": "code",
   "execution_count": 30,
   "id": "compatible-provincial",
   "metadata": {},
   "outputs": [
    {
     "data": {
      "text/html": [
       "<div>\n",
       "<style scoped>\n",
       "    .dataframe tbody tr th:only-of-type {\n",
       "        vertical-align: middle;\n",
       "    }\n",
       "\n",
       "    .dataframe tbody tr th {\n",
       "        vertical-align: top;\n",
       "    }\n",
       "\n",
       "    .dataframe thead th {\n",
       "        text-align: right;\n",
       "    }\n",
       "</style>\n",
       "<table border=\"1\" class=\"dataframe\">\n",
       "  <thead>\n",
       "    <tr style=\"text-align: right;\">\n",
       "      <th></th>\n",
       "      <th>support</th>\n",
       "      <th>itemsets</th>\n",
       "    </tr>\n",
       "  </thead>\n",
       "  <tbody>\n",
       "    <tr>\n",
       "      <th>0</th>\n",
       "      <td>0.75</td>\n",
       "      <td>(3)</td>\n",
       "    </tr>\n",
       "  </tbody>\n",
       "</table>\n",
       "</div>"
      ],
      "text/plain": [
       "   support itemsets\n",
       "0     0.75      (3)"
      ]
     },
     "execution_count": 30,
     "metadata": {},
     "output_type": "execute_result"
    }
   ],
   "source": [
    "from mlxtend.frequent_patterns import apriori\n",
    "\n",
    "apriori(df, min_support=0.6)"
   ]
  },
  {
   "cell_type": "code",
   "execution_count": 31,
   "id": "pediatric-flooring",
   "metadata": {},
   "outputs": [
    {
     "data": {
      "text/html": [
       "<div>\n",
       "<style scoped>\n",
       "    .dataframe tbody tr th:only-of-type {\n",
       "        vertical-align: middle;\n",
       "    }\n",
       "\n",
       "    .dataframe tbody tr th {\n",
       "        vertical-align: top;\n",
       "    }\n",
       "\n",
       "    .dataframe thead th {\n",
       "        text-align: right;\n",
       "    }\n",
       "</style>\n",
       "<table border=\"1\" class=\"dataframe\">\n",
       "  <thead>\n",
       "    <tr style=\"text-align: right;\">\n",
       "      <th></th>\n",
       "      <th>support</th>\n",
       "      <th>itemsets</th>\n",
       "    </tr>\n",
       "  </thead>\n",
       "  <tbody>\n",
       "    <tr>\n",
       "      <th>0</th>\n",
       "      <td>0.75</td>\n",
       "      <td>(T)</td>\n",
       "    </tr>\n",
       "  </tbody>\n",
       "</table>\n",
       "</div>"
      ],
      "text/plain": [
       "   support itemsets\n",
       "0     0.75      (T)"
      ]
     },
     "execution_count": 31,
     "metadata": {},
     "output_type": "execute_result"
    }
   ],
   "source": [
    "apriori(df, min_support=0.5, use_colnames=True)"
   ]
  },
  {
   "cell_type": "code",
   "execution_count": 32,
   "id": "collaborative-seven",
   "metadata": {},
   "outputs": [
    {
     "name": "stderr",
     "output_type": "stream",
     "text": [
      "c:\\python\\lib\\site-packages\\IPython\\core\\interactiveshell.py:3155: DtypeWarning: Columns (0) have mixed types.Specify dtype option on import or set low_memory=False.\n",
      "  has_raised = await self.run_ast_nodes(code_ast.body, cell_name,\n"
     ]
    }
   ],
   "source": [
    "df = pd.read_csv('lastfm.csv', header=None)\n",
    "df = df.dropna()\n"
   ]
  },
  {
   "cell_type": "code",
   "execution_count": 49,
   "id": "associate-purple",
   "metadata": {},
   "outputs": [
    {
     "data": {
      "text/html": [
       "<div>\n",
       "<style scoped>\n",
       "    .dataframe tbody tr th:only-of-type {\n",
       "        vertical-align: middle;\n",
       "    }\n",
       "\n",
       "    .dataframe tbody tr th {\n",
       "        vertical-align: top;\n",
       "    }\n",
       "\n",
       "    .dataframe thead th {\n",
       "        text-align: right;\n",
       "    }\n",
       "</style>\n",
       "<table border=\"1\" class=\"dataframe\">\n",
       "  <thead>\n",
       "    <tr style=\"text-align: right;\">\n",
       "      <th></th>\n",
       "      <th>0</th>\n",
       "      <th>1</th>\n",
       "      <th>2</th>\n",
       "      <th>3</th>\n",
       "    </tr>\n",
       "  </thead>\n",
       "  <tbody>\n",
       "    <tr>\n",
       "      <th>0</th>\n",
       "      <td>user</td>\n",
       "      <td>artist</td>\n",
       "      <td>sex</td>\n",
       "      <td>country</td>\n",
       "    </tr>\n",
       "    <tr>\n",
       "      <th>1</th>\n",
       "      <td>1</td>\n",
       "      <td>red hot chili peppers</td>\n",
       "      <td>f</td>\n",
       "      <td>Germany</td>\n",
       "    </tr>\n",
       "    <tr>\n",
       "      <th>2</th>\n",
       "      <td>1</td>\n",
       "      <td>the black dahlia murder</td>\n",
       "      <td>f</td>\n",
       "      <td>Germany</td>\n",
       "    </tr>\n",
       "    <tr>\n",
       "      <th>3</th>\n",
       "      <td>1</td>\n",
       "      <td>goldfrapp</td>\n",
       "      <td>f</td>\n",
       "      <td>Germany</td>\n",
       "    </tr>\n",
       "    <tr>\n",
       "      <th>4</th>\n",
       "      <td>1</td>\n",
       "      <td>dropkick murphys</td>\n",
       "      <td>f</td>\n",
       "      <td>Germany</td>\n",
       "    </tr>\n",
       "  </tbody>\n",
       "</table>\n",
       "</div>"
      ],
      "text/plain": [
       "      0                        1    2        3\n",
       "0  user                   artist  sex  country\n",
       "1     1    red hot chili peppers    f  Germany\n",
       "2     1  the black dahlia murder    f  Germany\n",
       "3     1                goldfrapp    f  Germany\n",
       "4     1         dropkick murphys    f  Germany"
      ]
     },
     "execution_count": 49,
     "metadata": {},
     "output_type": "execute_result"
    }
   ],
   "source": [
    "df = df.head()\n",
    "df"
   ]
  },
  {
   "cell_type": "code",
   "execution_count": 34,
   "id": "dangerous-assembly",
   "metadata": {},
   "outputs": [
    {
     "data": {
      "text/plain": [
       "[['user', 'artist', 'sex', 'country'],\n",
       " ['1', 'red hot chili peppers', 'f', 'Germany'],\n",
       " ['1', 'the black dahlia murder', 'f', 'Germany'],\n",
       " ['1', 'goldfrapp', 'f', 'Germany'],\n",
       " ['1', 'dropkick murphys', 'f', 'Germany']]"
      ]
     },
     "execution_count": 34,
     "metadata": {},
     "output_type": "execute_result"
    }
   ],
   "source": [
    "df = df.dropna()\n",
    "dataSet = df.values.tolist()\n",
    "dataSet"
   ]
  },
  {
   "cell_type": "code",
   "execution_count": 35,
   "id": "fuzzy-newfoundland",
   "metadata": {
    "scrolled": false
   },
   "outputs": [],
   "source": [
    "C1 = createC1(dataSet)\n"
   ]
  },
  {
   "cell_type": "code",
   "execution_count": 36,
   "id": "norwegian-voice",
   "metadata": {},
   "outputs": [],
   "source": [
    "D = list(map(set,dataSet))"
   ]
  },
  {
   "cell_type": "code",
   "execution_count": 37,
   "id": "fantastic-tennessee",
   "metadata": {},
   "outputs": [
    {
     "data": {
      "text/plain": [
       "[frozenset({'Germany'}), frozenset({'f'}), frozenset({'1'})]"
      ]
     },
     "execution_count": 37,
     "metadata": {},
     "output_type": "execute_result"
    }
   ],
   "source": [
    "L1,suppData = scanD(D,C1,0.5)\n",
    "L1"
   ]
  },
  {
   "cell_type": "code",
   "execution_count": 38,
   "id": "chemical-budapest",
   "metadata": {},
   "outputs": [],
   "source": [
    "def aprioriGen(Lk, k): #creates Ck\n",
    "    retList = []\n",
    "    lenLk = len(Lk)\n",
    "    for i in range(lenLk):\n",
    "        for j in range(i+1, lenLk): \n",
    "            L1 = list(Lk[i])[:k-2]; L2 = list(Lk[j])[:k-2]\n",
    "            L1.sort(); L2.sort()\n",
    "            if L1==L2: #if first k-2 elements are equal\n",
    "                retList.append(Lk[i] | Lk[j]) #set union\n",
    "    return retList"
   ]
  },
  {
   "cell_type": "code",
   "execution_count": 39,
   "id": "political-integration",
   "metadata": {},
   "outputs": [],
   "source": [
    "def apriori(dataSet, minSupport = 0.5):\n",
    "    C1 = createC1(dataSet)\n",
    "    D = list(map(set, dataSet))\n",
    "    L1, supportData = scanD(D, C1, minSupport)\n",
    "    L = [L1]\n",
    "    k = 2\n",
    "    while (len(L[k-2]) > 0):\n",
    "        Ck = aprioriGen(L[k-2], k)\n",
    "        Lk, supK = scanD(D, Ck, minSupport)#scan DB to get Lk\n",
    "        supportData.update(supK)\n",
    "        L.append(Lk)\n",
    "        k += 1\n",
    "    return L, supportData"
   ]
  },
  {
   "cell_type": "code",
   "execution_count": 40,
   "id": "bronze-maldives",
   "metadata": {},
   "outputs": [],
   "source": [
    "L,suppData = apriori(dataSet)"
   ]
  },
  {
   "cell_type": "code",
   "execution_count": 41,
   "id": "heard-young",
   "metadata": {},
   "outputs": [
    {
     "data": {
      "text/plain": [
       "[[frozenset({'Germany'}), frozenset({'f'}), frozenset({'1'})],\n",
       " [frozenset({'1', 'f'}),\n",
       "  frozenset({'1', 'Germany'}),\n",
       "  frozenset({'Germany', 'f'})],\n",
       " [frozenset({'1', 'Germany', 'f'})],\n",
       " []]"
      ]
     },
     "execution_count": 41,
     "metadata": {},
     "output_type": "execute_result"
    }
   ],
   "source": [
    "L"
   ]
  },
  {
   "cell_type": "code",
   "execution_count": 42,
   "id": "purple-bracket",
   "metadata": {},
   "outputs": [
    {
     "data": {
      "text/plain": [
       "[frozenset({'Germany'}), frozenset({'f'}), frozenset({'1'})]"
      ]
     },
     "execution_count": 42,
     "metadata": {},
     "output_type": "execute_result"
    }
   ],
   "source": [
    "L[0]"
   ]
  },
  {
   "cell_type": "code",
   "execution_count": 43,
   "id": "super-academy",
   "metadata": {},
   "outputs": [
    {
     "data": {
      "text/plain": [
       "[frozenset({'1', 'f'}),\n",
       " frozenset({'1', 'Germany'}),\n",
       " frozenset({'Germany', 'f'})]"
      ]
     },
     "execution_count": 43,
     "metadata": {},
     "output_type": "execute_result"
    }
   ],
   "source": [
    "L[1]"
   ]
  },
  {
   "cell_type": "code",
   "execution_count": 44,
   "id": "desperate-mouth",
   "metadata": {},
   "outputs": [
    {
     "data": {
      "text/plain": [
       "[frozenset({'1', 'Germany', 'f'})]"
      ]
     },
     "execution_count": 44,
     "metadata": {},
     "output_type": "execute_result"
    }
   ],
   "source": [
    "L[2]"
   ]
  },
  {
   "cell_type": "code",
   "execution_count": 45,
   "id": "extra-frequency",
   "metadata": {},
   "outputs": [
    {
     "data": {
      "text/plain": [
       "[]"
      ]
     },
     "execution_count": 45,
     "metadata": {},
     "output_type": "execute_result"
    }
   ],
   "source": [
    "L[3]"
   ]
  },
  {
   "cell_type": "code",
   "execution_count": 46,
   "id": "miniature-enzyme",
   "metadata": {},
   "outputs": [
    {
     "data": {
      "text/plain": [
       "[frozenset({'Germany', 'f'}),\n",
       " frozenset({'1', 'Germany'}),\n",
       " frozenset({'1', 'f'})]"
      ]
     },
     "execution_count": 46,
     "metadata": {},
     "output_type": "execute_result"
    }
   ],
   "source": [
    "aprioriGen(L[0],2)"
   ]
  },
  {
   "cell_type": "code",
   "execution_count": 47,
   "id": "through-demand",
   "metadata": {},
   "outputs": [],
   "source": [
    "L,suppData= apriori(dataSet,minSupport=0.5)"
   ]
  },
  {
   "cell_type": "code",
   "execution_count": 48,
   "id": "lined-paraguay",
   "metadata": {},
   "outputs": [
    {
     "name": "stdout",
     "output_type": "stream",
     "text": [
      "frozenset({'f'}) --> frozenset({'1'}) conf: 1.0\n",
      "frozenset({'1'}) --> frozenset({'f'}) conf: 1.0\n",
      "frozenset({'Germany'}) --> frozenset({'1'}) conf: 1.0\n",
      "frozenset({'1'}) --> frozenset({'Germany'}) conf: 1.0\n",
      "frozenset({'Germany'}) --> frozenset({'f'}) conf: 1.0\n",
      "frozenset({'f'}) --> frozenset({'Germany'}) conf: 1.0\n",
      "frozenset({'Germany'}) --> frozenset({'1', 'f'}) conf: 1.0\n",
      "frozenset({'f'}) --> frozenset({'1', 'Germany'}) conf: 1.0\n",
      "frozenset({'1'}) --> frozenset({'f', 'Germany'}) conf: 1.0\n"
     ]
    }
   ],
   "source": [
    "rules= generateRules(L,suppData, minConf=0.7)"
   ]
  },
  {
   "cell_type": "code",
   "execution_count": 53,
   "id": "applicable-priest",
   "metadata": {},
   "outputs": [
    {
     "name": "stderr",
     "output_type": "stream",
     "text": [
      "c:\\python\\lib\\site-packages\\IPython\\core\\interactiveshell.py:3155: DtypeWarning: Columns (0) have mixed types.Specify dtype option on import or set low_memory=False.\n",
      "  has_raised = await self.run_ast_nodes(code_ast.body, cell_name,\n"
     ]
    },
    {
     "data": {
      "text/html": [
       "<div>\n",
       "<style scoped>\n",
       "    .dataframe tbody tr th:only-of-type {\n",
       "        vertical-align: middle;\n",
       "    }\n",
       "\n",
       "    .dataframe tbody tr th {\n",
       "        vertical-align: top;\n",
       "    }\n",
       "\n",
       "    .dataframe thead th {\n",
       "        text-align: right;\n",
       "    }\n",
       "</style>\n",
       "<table border=\"1\" class=\"dataframe\">\n",
       "  <thead>\n",
       "    <tr style=\"text-align: right;\">\n",
       "      <th></th>\n",
       "      <th>0</th>\n",
       "      <th>1</th>\n",
       "      <th>2</th>\n",
       "      <th>3</th>\n",
       "    </tr>\n",
       "  </thead>\n",
       "  <tbody>\n",
       "    <tr>\n",
       "      <th>289936</th>\n",
       "      <td>19718</td>\n",
       "      <td>sufjan stevens</td>\n",
       "      <td>f</td>\n",
       "      <td>Canada</td>\n",
       "    </tr>\n",
       "    <tr>\n",
       "      <th>289937</th>\n",
       "      <td>19718</td>\n",
       "      <td>crystal castles</td>\n",
       "      <td>f</td>\n",
       "      <td>Canada</td>\n",
       "    </tr>\n",
       "    <tr>\n",
       "      <th>289938</th>\n",
       "      <td>19718</td>\n",
       "      <td>regina spektor</td>\n",
       "      <td>f</td>\n",
       "      <td>Canada</td>\n",
       "    </tr>\n",
       "    <tr>\n",
       "      <th>289939</th>\n",
       "      <td>19718</td>\n",
       "      <td>the velvet underground</td>\n",
       "      <td>f</td>\n",
       "      <td>Canada</td>\n",
       "    </tr>\n",
       "    <tr>\n",
       "      <th>289940</th>\n",
       "      <td>19718</td>\n",
       "      <td>joy division</td>\n",
       "      <td>f</td>\n",
       "      <td>Canada</td>\n",
       "    </tr>\n",
       "    <tr>\n",
       "      <th>289941</th>\n",
       "      <td>19718</td>\n",
       "      <td>the distillers</td>\n",
       "      <td>f</td>\n",
       "      <td>Canada</td>\n",
       "    </tr>\n",
       "    <tr>\n",
       "      <th>289942</th>\n",
       "      <td>19718</td>\n",
       "      <td>metric</td>\n",
       "      <td>f</td>\n",
       "      <td>Canada</td>\n",
       "    </tr>\n",
       "    <tr>\n",
       "      <th>289943</th>\n",
       "      <td>19718</td>\n",
       "      <td>peter bjorn and john</td>\n",
       "      <td>f</td>\n",
       "      <td>Canada</td>\n",
       "    </tr>\n",
       "    <tr>\n",
       "      <th>289944</th>\n",
       "      <td>19718</td>\n",
       "      <td>ramones</td>\n",
       "      <td>f</td>\n",
       "      <td>Canada</td>\n",
       "    </tr>\n",
       "    <tr>\n",
       "      <th>289945</th>\n",
       "      <td>19718</td>\n",
       "      <td>the kinks</td>\n",
       "      <td>f</td>\n",
       "      <td>Canada</td>\n",
       "    </tr>\n",
       "    <tr>\n",
       "      <th>289946</th>\n",
       "      <td>19718</td>\n",
       "      <td>david bowie</td>\n",
       "      <td>f</td>\n",
       "      <td>Canada</td>\n",
       "    </tr>\n",
       "    <tr>\n",
       "      <th>289947</th>\n",
       "      <td>19718</td>\n",
       "      <td>mgmt</td>\n",
       "      <td>f</td>\n",
       "      <td>Canada</td>\n",
       "    </tr>\n",
       "    <tr>\n",
       "      <th>289948</th>\n",
       "      <td>19718</td>\n",
       "      <td>cold war kids</td>\n",
       "      <td>f</td>\n",
       "      <td>Canada</td>\n",
       "    </tr>\n",
       "    <tr>\n",
       "      <th>289949</th>\n",
       "      <td>19718</td>\n",
       "      <td>fleetwood mac</td>\n",
       "      <td>f</td>\n",
       "      <td>Canada</td>\n",
       "    </tr>\n",
       "    <tr>\n",
       "      <th>289950</th>\n",
       "      <td>19718</td>\n",
       "      <td>arcade fire</td>\n",
       "      <td>f</td>\n",
       "      <td>Canada</td>\n",
       "    </tr>\n",
       "    <tr>\n",
       "      <th>289951</th>\n",
       "      <td>19718</td>\n",
       "      <td>bob dylan</td>\n",
       "      <td>f</td>\n",
       "      <td>Canada</td>\n",
       "    </tr>\n",
       "    <tr>\n",
       "      <th>289952</th>\n",
       "      <td>19718</td>\n",
       "      <td>pixies</td>\n",
       "      <td>f</td>\n",
       "      <td>Canada</td>\n",
       "    </tr>\n",
       "    <tr>\n",
       "      <th>289953</th>\n",
       "      <td>19718</td>\n",
       "      <td>the clash</td>\n",
       "      <td>f</td>\n",
       "      <td>Canada</td>\n",
       "    </tr>\n",
       "    <tr>\n",
       "      <th>289954</th>\n",
       "      <td>19718</td>\n",
       "      <td>a tribe called quest</td>\n",
       "      <td>f</td>\n",
       "      <td>Canada</td>\n",
       "    </tr>\n",
       "    <tr>\n",
       "      <th>289955</th>\n",
       "      <td>19718</td>\n",
       "      <td>radiohead</td>\n",
       "      <td>f</td>\n",
       "      <td>Canada</td>\n",
       "    </tr>\n",
       "  </tbody>\n",
       "</table>\n",
       "</div>"
      ],
      "text/plain": [
       "            0                       1  2       3\n",
       "289936  19718          sufjan stevens  f  Canada\n",
       "289937  19718         crystal castles  f  Canada\n",
       "289938  19718          regina spektor  f  Canada\n",
       "289939  19718  the velvet underground  f  Canada\n",
       "289940  19718            joy division  f  Canada\n",
       "289941  19718          the distillers  f  Canada\n",
       "289942  19718                  metric  f  Canada\n",
       "289943  19718    peter bjorn and john  f  Canada\n",
       "289944  19718                 ramones  f  Canada\n",
       "289945  19718               the kinks  f  Canada\n",
       "289946  19718             david bowie  f  Canada\n",
       "289947  19718                    mgmt  f  Canada\n",
       "289948  19718           cold war kids  f  Canada\n",
       "289949  19718           fleetwood mac  f  Canada\n",
       "289950  19718             arcade fire  f  Canada\n",
       "289951  19718               bob dylan  f  Canada\n",
       "289952  19718                  pixies  f  Canada\n",
       "289953  19718               the clash  f  Canada\n",
       "289954  19718    a tribe called quest  f  Canada\n",
       "289955  19718               radiohead  f  Canada"
      ]
     },
     "execution_count": 53,
     "metadata": {},
     "output_type": "execute_result"
    }
   ],
   "source": [
    "df = pd.read_csv('lastfm.csv', header=None)\n",
    "df = df.dropna()\n",
    "df = df.tail(20)\n",
    "df"
   ]
  },
  {
   "cell_type": "code",
   "execution_count": 54,
   "id": "featured-beads",
   "metadata": {},
   "outputs": [
    {
     "data": {
      "text/plain": [
       "[[19718, 'sufjan stevens', 'f', 'Canada'],\n",
       " [19718, 'crystal castles', 'f', 'Canada'],\n",
       " [19718, 'regina spektor', 'f', 'Canada'],\n",
       " [19718, 'the velvet underground', 'f', 'Canada'],\n",
       " [19718, 'joy division', 'f', 'Canada'],\n",
       " [19718, 'the distillers', 'f', 'Canada'],\n",
       " [19718, 'metric', 'f', 'Canada'],\n",
       " [19718, 'peter bjorn and john', 'f', 'Canada'],\n",
       " [19718, 'ramones', 'f', 'Canada'],\n",
       " [19718, 'the kinks', 'f', 'Canada'],\n",
       " [19718, 'david bowie', 'f', 'Canada'],\n",
       " [19718, 'mgmt', 'f', 'Canada'],\n",
       " [19718, 'cold war kids', 'f', 'Canada'],\n",
       " [19718, 'fleetwood mac', 'f', 'Canada'],\n",
       " [19718, 'arcade fire', 'f', 'Canada'],\n",
       " [19718, 'bob dylan', 'f', 'Canada'],\n",
       " [19718, 'pixies', 'f', 'Canada'],\n",
       " [19718, 'the clash', 'f', 'Canada'],\n",
       " [19718, 'a tribe called quest', 'f', 'Canada'],\n",
       " [19718, 'radiohead', 'f', 'Canada']]"
      ]
     },
     "execution_count": 54,
     "metadata": {},
     "output_type": "execute_result"
    }
   ],
   "source": [
    "dataSet = df.values.tolist()\n",
    "dataSet"
   ]
  },
  {
   "cell_type": "code",
   "execution_count": 56,
   "id": "entertaining-shipping",
   "metadata": {},
   "outputs": [
    {
     "name": "stdout",
     "output_type": "stream",
     "text": [
      "frozenset({19718}) --> frozenset({'f'}) conf: 1.0\n",
      "frozenset({'f'}) --> frozenset({19718}) conf: 1.0\n",
      "frozenset({19718}) --> frozenset({'Canada'}) conf: 1.0\n",
      "frozenset({'Canada'}) --> frozenset({19718}) conf: 1.0\n",
      "frozenset({'f'}) --> frozenset({'Canada'}) conf: 1.0\n",
      "frozenset({'Canada'}) --> frozenset({'f'}) conf: 1.0\n",
      "frozenset({19718}) --> frozenset({'Canada', 'f'}) conf: 1.0\n",
      "frozenset({'f'}) --> frozenset({'Canada', 19718}) conf: 1.0\n",
      "frozenset({'Canada'}) --> frozenset({'f', 19718}) conf: 1.0\n"
     ]
    }
   ],
   "source": [
    "C1 = createC1(dataSet)\n",
    "D = list(map(set,dataSet))\n",
    "L1,suppData = scanD(D,C1,0.5)\n",
    "L1\n",
    "def aprioriGen(Lk, k): #creates Ck\n",
    "    retList = []\n",
    "    lenLk = len(Lk)\n",
    "    for i in range(lenLk):\n",
    "        for j in range(i+1, lenLk): \n",
    "            L1 = list(Lk[i])[:k-2]; L2 = list(Lk[j])[:k-2]\n",
    "            L1.sort(); L2.sort()\n",
    "            if L1==L2: #if first k-2 elements are equal\n",
    "                retList.append(Lk[i] | Lk[j]) #set union\n",
    "    return retList\n",
    "def apriori(dataSet, minSupport = 0.5):\n",
    "    C1 = createC1(dataSet)\n",
    "    D = list(map(set, dataSet))\n",
    "    L1, supportData = scanD(D, C1, minSupport)\n",
    "    L = [L1]\n",
    "    k = 2\n",
    "    while (len(L[k-2]) > 0):\n",
    "        Ck = aprioriGen(L[k-2], k)\n",
    "        Lk, supK = scanD(D, Ck, minSupport)#scan DB to get Lk\n",
    "        supportData.update(supK)\n",
    "        L.append(Lk)\n",
    "        k += 1\n",
    "    return L, supportData\n",
    "L,suppData = apriori(dataSet)\n",
    "L\n",
    "L[0]\n",
    "L[1]\n",
    "L[2]\n",
    "L[3]\n",
    "aprioriGen(L[0],2)\n",
    "L,suppData= apriori(dataSet,minSupport=0.5)\n",
    "rules= generateRules(L,suppData, minConf=0.7)\n",
    "\n",
    "\n"
   ]
  },
  {
   "cell_type": "code",
   "execution_count": 59,
   "id": "elegant-magnet",
   "metadata": {},
   "outputs": [
    {
     "data": {
      "text/plain": [
       "[[frozenset({'Canada'}), frozenset({'f'}), frozenset({19718})],\n",
       " [frozenset({19718, 'f'}),\n",
       "  frozenset({19718, 'Canada'}),\n",
       "  frozenset({'Canada', 'f'})],\n",
       " [frozenset({19718, 'Canada', 'f'})],\n",
       " []]"
      ]
     },
     "execution_count": 59,
     "metadata": {},
     "output_type": "execute_result"
    }
   ],
   "source": [
    "L\n"
   ]
  },
  {
   "cell_type": "code",
   "execution_count": 60,
   "id": "oriented-stake",
   "metadata": {},
   "outputs": [
    {
     "data": {
      "text/plain": [
       "[frozenset({'Canada'}), frozenset({'f'}), frozenset({19718})]"
      ]
     },
     "execution_count": 60,
     "metadata": {},
     "output_type": "execute_result"
    }
   ],
   "source": [
    "L[0]"
   ]
  },
  {
   "cell_type": "code",
   "execution_count": 61,
   "id": "present-equipment",
   "metadata": {},
   "outputs": [
    {
     "data": {
      "text/plain": [
       "[frozenset({19718, 'f'}),\n",
       " frozenset({19718, 'Canada'}),\n",
       " frozenset({'Canada', 'f'})]"
      ]
     },
     "execution_count": 61,
     "metadata": {},
     "output_type": "execute_result"
    }
   ],
   "source": [
    "L[1]"
   ]
  },
  {
   "cell_type": "code",
   "execution_count": 62,
   "id": "statistical-crawford",
   "metadata": {},
   "outputs": [
    {
     "data": {
      "text/plain": [
       "[frozenset({19718, 'Canada', 'f'})]"
      ]
     },
     "execution_count": 62,
     "metadata": {},
     "output_type": "execute_result"
    }
   ],
   "source": [
    "L[2]"
   ]
  },
  {
   "cell_type": "code",
   "execution_count": 63,
   "id": "ambient-contact",
   "metadata": {},
   "outputs": [
    {
     "data": {
      "text/plain": [
       "[]"
      ]
     },
     "execution_count": 63,
     "metadata": {},
     "output_type": "execute_result"
    }
   ],
   "source": [
    "L[3]"
   ]
  },
  {
   "cell_type": "markdown",
   "id": "dynamic-metropolitan",
   "metadata": {},
   "source": [
    "From the dataset lastfm.csv, we take two other subsets, by using loc[] function:\n",
    "dataset4=df.loc[40:60]\n",
    "dataset5=df.loc[60:80]\n",
    "We have to now run the code from the lines 34 to 48"
   ]
  },
  {
   "cell_type": "code",
   "execution_count": null,
   "id": "american-cycle",
   "metadata": {},
   "outputs": [],
   "source": []
  }
 ],
 "metadata": {
  "kernelspec": {
   "display_name": "Python 3",
   "language": "python",
   "name": "python3"
  },
  "language_info": {
   "codemirror_mode": {
    "name": "ipython",
    "version": 3
   },
   "file_extension": ".py",
   "mimetype": "text/x-python",
   "name": "python",
   "nbconvert_exporter": "python",
   "pygments_lexer": "ipython3",
   "version": "3.8.5"
  }
 },
 "nbformat": 4,
 "nbformat_minor": 5
}
